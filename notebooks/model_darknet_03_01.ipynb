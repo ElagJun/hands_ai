{
 "cells": [
  {
   "cell_type": "markdown",
   "metadata": {},
   "source": [
    "# ..."
   ]
  },
  {
   "cell_type": "code",
   "execution_count": 1,
   "metadata": {},
   "outputs": [],
   "source": [
    "%matplotlib inline\n",
    "%load_ext autoreload\n",
    "# use %autoreload command to reload all libraries"
   ]
  },
  {
   "cell_type": "code",
   "execution_count": 2,
   "metadata": {},
   "outputs": [],
   "source": [
    "from IPython.core.debugger import set_trace\n",
    "from IPython.core.interactiveshell import InteractiveShell\n",
    "InteractiveShell.ast_node_interactivity = \"all\"\n",
    "#InteractiveShell.ast_node_interactivity = \"last_expr\""
   ]
  },
  {
   "cell_type": "code",
   "execution_count": 3,
   "metadata": {},
   "outputs": [],
   "source": [
    "# Python path fixing so we can import libraries\n",
    "import sys\n",
    "import os\n",
    "sys_paths = ['../', # \n",
    "            ]\n",
    "for p in sys_paths:\n",
    "    p = os.path.abspath(p)\n",
    "    if p not in sys.path:\n",
    "        sys.path.append(p)"
   ]
  },
  {
   "cell_type": "code",
   "execution_count": 4,
   "metadata": {},
   "outputs": [],
   "source": [
    "from hands.data import *\n",
    "from hands.multiloss import *\n",
    "from hands.hands_loss import *\n",
    "from hands.notebook_utils import *\n",
    "from hands.utils import * "
   ]
  },
  {
   "cell_type": "code",
   "execution_count": 5,
   "metadata": {
    "scrolled": true
   },
   "outputs": [
    {
     "name": "stdout",
     "output_type": "stream",
     "text": [
      "Pytorch: 1.0.0.dev20181009, Torchvision: 0.2.1, Fastai: 1.0.25.dev0\n"
     ]
    }
   ],
   "source": [
    "print(f\"Pytorch: {torch.__version__}, Torchvision: {torchvision.__version__}, Fastai: {fastai.__version__}\")"
   ]
  },
  {
   "cell_type": "code",
   "execution_count": 6,
   "metadata": {},
   "outputs": [],
   "source": [
    "%autoreload"
   ]
  },
  {
   "cell_type": "code",
   "execution_count": 8,
   "metadata": {},
   "outputs": [],
   "source": [
    "model_dir = \"models/darknet_03\""
   ]
  },
  {
   "cell_type": "markdown",
   "metadata": {},
   "source": [
    "# Setup"
   ]
  },
  {
   "cell_type": "code",
   "execution_count": 9,
   "metadata": {},
   "outputs": [],
   "source": [
    "#img_org_dir = '/home/ohu/koodi/kesken/hands_data/data/jpg_exp/**/*fist/*.jpg'\n",
    "img_org_dir = '/home/ohu/koodi/kesken/hands_data/data/train/**/*.jpg'\n",
    "img_fnames_all = glob.glob(img_org_dir, recursive=True)\n",
    "split = int(.9*len(img_fnames_all))\n",
    "split = [split, len(img_fnames_all)-split]\n",
    "img_fnames_arr = [list(sub) for sub in torch.utils.data.random_split(img_fnames_all, split)]\n",
    "\n",
    "img_fnames_arr.append(glob.glob('/home/ohu/koodi/kesken/hands_data/data/test/**/*.jpg', recursive=True))"
   ]
  },
  {
   "cell_type": "code",
   "execution_count": 10,
   "metadata": {},
   "outputs": [
    {
     "data": {
      "text/plain": [
       "[13183, 1465, 4723]"
      ]
     },
     "execution_count": 10,
     "metadata": {},
     "output_type": "execute_result"
    },
    {
     "data": {
      "text/plain": [
       "[0.6805534045738475, 0.07562851685509267, 0.24381807857105983]"
      ]
     },
     "execution_count": 10,
     "metadata": {},
     "output_type": "execute_result"
    }
   ],
   "source": [
    "_ = [len(a) for a in img_fnames_arr]\n",
    "_\n",
    "[a/sum(_) for a in _]"
   ]
  },
  {
   "cell_type": "code",
   "execution_count": null,
   "metadata": {},
   "outputs": [],
   "source": []
  },
  {
   "cell_type": "markdown",
   "metadata": {},
   "source": [
    "# Model / Learner Setup"
   ]
  },
  {
   "cell_type": "code",
   "execution_count": 11,
   "metadata": {},
   "outputs": [],
   "source": [
    "from hands.models.model_darknet_customized import *"
   ]
  },
  {
   "cell_type": "code",
   "execution_count": 12,
   "metadata": {},
   "outputs": [],
   "source": [
    "model = ModelDarknetCustomized(num_classes=len(HandItems.CLASS_NAMES),\n",
    "                               darknet_layers=[1,2,8], darknet_output=256)"
   ]
  },
  {
   "cell_type": "code",
   "execution_count": null,
   "metadata": {},
   "outputs": [],
   "source": []
  },
  {
   "cell_type": "code",
   "execution_count": 13,
   "metadata": {},
   "outputs": [],
   "source": [
    "_ = model.cuda().train()\n",
    "learn = fastai.Learner(data=get_default_databunch(img_fnames_arr, size=320),\n",
    "                       model=model, loss_func=HandsLoss())\n",
    "learn.metrics = [HandsAccuracy()]\n",
    "learn.callback_fns.append(HandleAvgMultiLoss)\n",
    "learn.path = pathlib.Path('data/')\n",
    "learn.split((model.pre_0[0][0], ))\n",
    "learn.model_dir = model_dir"
   ]
  },
  {
   "cell_type": "code",
   "execution_count": 14,
   "metadata": {},
   "outputs": [],
   "source": [
    "if not os.path.isdir(learn.path/learn.model_dir):\n",
    "    os.mkdir(learn.path/learn.model_dir)"
   ]
  },
  {
   "cell_type": "code",
   "execution_count": 30,
   "metadata": {},
   "outputs": [
    {
     "name": "stdout",
     "output_type": "stream",
     "text": [
      "Loaded to: backbone.base.conv.weight -> backbone.darknet_2.8.conv2.bn.running_var.\n",
      "Skipped from: backbone.darknet_3.0.conv.weight...\n"
     ]
    }
   ],
   "source": [
    "_ = model_load_backbone(model, '../data/models/yolov3_coco_01.h5')"
   ]
  },
  {
   "cell_type": "code",
   "execution_count": 31,
   "metadata": {},
   "outputs": [
    {
     "name": "stdout",
     "output_type": "stream",
     "text": [
      "backbone.base.conv.weight: False\n",
      "...\n",
      "pre_0.14_convbatch.0.weight: True\n",
      "...\n",
      "pre_0.15_conv.bias: True\n"
     ]
    }
   ],
   "source": [
    "learn.freeze()\n",
    "model_requires_grad_info(model)"
   ]
  },
  {
   "cell_type": "code",
   "execution_count": 32,
   "metadata": {},
   "outputs": [],
   "source": [
    "import gc\n",
    "def empty_cuda_cache():\n",
    "    for _ in range(2):\n",
    "        gc.collect()\n",
    "        torch.cuda.empty_cache()\n",
    "        time.sleep(1)"
   ]
  },
  {
   "cell_type": "code",
   "execution_count": 33,
   "metadata": {},
   "outputs": [],
   "source": [
    "empty_cuda_cache()"
   ]
  },
  {
   "cell_type": "markdown",
   "metadata": {},
   "source": [
    "# Learner & Fitting"
   ]
  },
  {
   "cell_type": "markdown",
   "metadata": {},
   "source": [
    "### Size 320"
   ]
  },
  {
   "cell_type": "code",
   "execution_count": 34,
   "metadata": {},
   "outputs": [
    {
     "data": {
      "text/plain": [
       "320"
      ]
     },
     "execution_count": 34,
     "metadata": {},
     "output_type": "execute_result"
    }
   ],
   "source": [
    "sz = 10*32\n",
    "sz\n",
    "learn.data = get_default_databunch(img_fnames_arr, size=sz, bs=32)"
   ]
  },
  {
   "cell_type": "code",
   "execution_count": 35,
   "metadata": {},
   "outputs": [
    {
     "name": "stdout",
     "output_type": "stream",
     "text": [
      "Total time: 15:06\n",
      "epoch  train_loss  valid_loss  accuracy  loss_conf  loss_cls  loss_coord  loss_angle \n",
      "1      32.353931   38.123287   0.210239  3.946073   23.569960  5.610484    4.996767    (05:05)\n",
      "2      20.823776   21.951010   0.362457  3.429120   12.418602  4.142219    1.961067    (05:00)\n",
      "3      15.152591   15.713665   0.492150  3.288147   7.666296  3.579290    1.179934     (05:01)\n",
      "\n"
     ]
    }
   ],
   "source": [
    "learn.fit_one_cycle(3, max_lr=1e-2)"
   ]
  },
  {
   "cell_type": "code",
   "execution_count": 36,
   "metadata": {},
   "outputs": [],
   "source": [
    "learn.save('320_1')"
   ]
  },
  {
   "cell_type": "code",
   "execution_count": 37,
   "metadata": {},
   "outputs": [
    {
     "data": {
      "text/plain": [
       "[48.759262, 0.390006351894982]"
      ]
     },
     "execution_count": 37,
     "metadata": {},
     "output_type": "execute_result"
    }
   ],
   "source": [
    "learn.validate(learn.data.test_dl)"
   ]
  },
  {
   "cell_type": "code",
   "execution_count": 38,
   "metadata": {},
   "outputs": [
    {
     "data": {
      "text/html": [
       "\n",
       "    <div>\n",
       "        <style>\n",
       "        \t/* Turns off some styling */\n",
       "        \tprogress {\n",
       "\n",
       "            \t/* gets rid of default border in Firefox and Opera. */\n",
       "            \tborder: none;\n",
       "\n",
       "            \t/* Needs to be in here for Safari polyfill so background images work as expected. */\n",
       "            \tbackground-size: auto;\n",
       "            }\n",
       "\n",
       "            .progress-bar-interrupted, .progress-bar-interrupted::-webkit-progress-bar {\n",
       "                background: #F44336;\n",
       "            }\n",
       "        </style>\n",
       "      <progress value='4723' class='' max='4723', style='width:300px; height:20px; vertical-align: middle;'></progress>\n",
       "      100.00% [4723/4723 01:34<00:00]\n",
       "    </div>\n",
       "    "
      ],
      "text/plain": [
       "<IPython.core.display.HTML object>"
      ]
     },
     "metadata": {},
     "output_type": "display_data"
    },
    {
     "data": {
      "text/plain": [
       "(0.3226762650857506,\n",
       " {'not_enough_preds': 2362,\n",
       "  'too_many_preds': 9,\n",
       "  'wrong_class': 396,\n",
       "  'too_far': 0,\n",
       "  'wrong_direction': 432})"
      ]
     },
     "execution_count": 38,
     "metadata": {},
     "output_type": "execute_result"
    }
   ],
   "source": [
    "corr, wrongs, w_samples, w_idxs = calculate_accuracy_files(model, learn.data.test_ds.fnames, learn.data.test_dl.size, max_samples=0)\n",
    "corr, wrongs"
   ]
  },
  {
   "cell_type": "code",
   "execution_count": 39,
   "metadata": {},
   "outputs": [],
   "source": [
    "learn.unfreeze()"
   ]
  },
  {
   "cell_type": "code",
   "execution_count": 40,
   "metadata": {},
   "outputs": [
    {
     "name": "stdout",
     "output_type": "stream",
     "text": [
      "backbone.base.conv.weight: True\n",
      "...\n",
      "pre_0.15_conv.bias: True\n"
     ]
    }
   ],
   "source": [
    "model_requires_grad_info(model)"
   ]
  },
  {
   "cell_type": "code",
   "execution_count": null,
   "metadata": {},
   "outputs": [],
   "source": []
  },
  {
   "cell_type": "code",
   "execution_count": 41,
   "metadata": {},
   "outputs": [
    {
     "name": "stdout",
     "output_type": "stream",
     "text": [
      "Total time: 2:33:10\n",
      "epoch  train_loss  valid_loss  accuracy  loss_conf  loss_cls  loss_coord  loss_angle\n",
      "1      14.425879   14.848296   0.496928  3.288843   6.838097  3.539479    1.181877    (05:06)\n",
      "2      13.107965   13.994322   0.501024  3.268462   6.078667  3.481814    1.165381    (05:04)\n",
      "3      12.243313   13.413573   0.489420  3.270960   5.553333  3.459597    1.129683    (05:05)\n",
      "4      11.875992   12.784998   0.508532  3.234760   5.007298  3.419882    1.123058    (05:04)\n",
      "5      11.468328   11.836123   0.535836  3.212100   4.193471  3.359447    1.071104    (05:07)\n",
      "6      10.372625   11.637770   0.536519  3.185982   4.058462  3.329210    1.064116    (05:04)\n",
      "7      10.491927   10.878450   0.554266  3.156615   3.458081  3.268347    0.995409    (05:04)\n",
      "8      9.644271    10.813465   0.529010  3.124824   3.552514  3.227644    0.908483    (05:05)\n",
      "9      9.164272    10.614743   0.586348  3.101395   3.468885  3.147286    0.897177    (05:06)\n",
      "10     9.118854    10.256940   0.569283  3.068684   3.210999  3.089531    0.887725    (05:06)\n",
      "11     8.292973    10.249307   0.571331  3.046593   3.315128  3.067863    0.819723    (05:05)\n",
      "12     7.967469    9.923532    0.582253  3.018061   3.044271  3.057401    0.803799    (05:07)\n",
      "13     7.747405    9.189461    0.564505  2.996502   2.525747  2.930325    0.736886    (05:07)\n",
      "14     7.371753    8.443851    0.608191  2.982452   1.896310  2.848527    0.716562    (05:05)\n",
      "15     7.165286    8.775271    0.627986  2.948802   2.318082  2.813591    0.694797    (05:05)\n",
      "16     6.891152    8.518448    0.625939  2.925603   2.093936  2.810361    0.688548    (05:06)\n",
      "17     6.954418    7.966768    0.623891  2.909222   1.640282  2.744317    0.672945    (05:06)\n",
      "18     6.693129    7.644757    0.646416  2.875425   1.431908  2.698690    0.638735    (05:05)\n",
      "19     6.461946    7.474847    0.652560  2.839758   1.302794  2.695808    0.636486    (05:06)\n",
      "20     6.199695    7.393147    0.655290  2.800077   1.323586  2.670290    0.599195    (05:08)\n",
      "21     6.112959    7.487870    0.655290  2.804123   1.437176  2.631838    0.614730    (05:06)\n",
      "22     6.012455    7.181211    0.673720  2.781140   1.203974  2.616260    0.579837    (05:07)\n",
      "23     5.642219    7.086579    0.679863  2.745437   1.160404  2.605403    0.575336    (05:07)\n",
      "24     5.614616    7.025335    0.677133  2.727002   1.161822  2.566819    0.569692    (05:04)\n",
      "25     5.710031    7.027395    0.679181  2.711015   1.188703  2.555239    0.572437    (05:06)\n",
      "26     5.394762    6.991444    0.683276  2.707145   1.200427  2.529704    0.554169    (05:06)\n",
      "27     5.830071    6.918501    0.685324  2.701923   1.145988  2.524560    0.546029    (05:06)\n",
      "28     5.529716    6.892579    0.680546  2.698835   1.128728  2.521512    0.543504    (05:07)\n",
      "29     5.352013    6.903441    0.679863  2.700849   1.137262  2.520669    0.544659    (05:07)\n",
      "30     5.268600    6.910325    0.681911  2.701191   1.143197  2.520661    0.545276    (05:07)\n",
      "\n"
     ]
    }
   ],
   "source": [
    "learn.fit_one_cycle(30, max_lr=1e-4)"
   ]
  },
  {
   "cell_type": "code",
   "execution_count": 42,
   "metadata": {},
   "outputs": [],
   "source": [
    "learn.save('320_2') # this is same as hands_darknet_03_320_v01.pth"
   ]
  },
  {
   "cell_type": "code",
   "execution_count": 43,
   "metadata": {},
   "outputs": [
    {
     "data": {
      "text/plain": [
       "[47.642555, 0.5022231632437011]"
      ]
     },
     "execution_count": 43,
     "metadata": {},
     "output_type": "execute_result"
    }
   ],
   "source": [
    "learn.validate(learn.data.test_dl)"
   ]
  },
  {
   "cell_type": "code",
   "execution_count": 44,
   "metadata": {},
   "outputs": [
    {
     "data": {
      "text/html": [
       "\n",
       "    <div>\n",
       "        <style>\n",
       "        \t/* Turns off some styling */\n",
       "        \tprogress {\n",
       "\n",
       "            \t/* gets rid of default border in Firefox and Opera. */\n",
       "            \tborder: none;\n",
       "\n",
       "            \t/* Needs to be in here for Safari polyfill so background images work as expected. */\n",
       "            \tbackground-size: auto;\n",
       "            }\n",
       "\n",
       "            .progress-bar-interrupted, .progress-bar-interrupted::-webkit-progress-bar {\n",
       "                background: #F44336;\n",
       "            }\n",
       "        </style>\n",
       "      <progress value='4723' class='' max='4723', style='width:300px; height:20px; vertical-align: middle;'></progress>\n",
       "      100.00% [4723/4723 01:34<00:00]\n",
       "    </div>\n",
       "    "
      ],
      "text/plain": [
       "<IPython.core.display.HTML object>"
      ]
     },
     "metadata": {},
     "output_type": "display_data"
    },
    {
     "data": {
      "text/plain": [
       "(0.46157103535888205,\n",
       " {'not_enough_preds': 1792,\n",
       "  'too_many_preds': 10,\n",
       "  'wrong_class': 327,\n",
       "  'too_far': 1,\n",
       "  'wrong_direction': 413})"
      ]
     },
     "execution_count": 44,
     "metadata": {},
     "output_type": "execute_result"
    }
   ],
   "source": [
    "corr, wrongs, w_samples, w_idxs = calculate_accuracy_files(model, learn.data.test_ds.fnames, learn.data.test_dl.size, max_samples=0)\n",
    "corr, wrongs"
   ]
  },
  {
   "cell_type": "code",
   "execution_count": null,
   "metadata": {},
   "outputs": [],
   "source": []
  },
  {
   "cell_type": "markdown",
   "metadata": {},
   "source": [
    "### Size 416"
   ]
  },
  {
   "cell_type": "code",
   "execution_count": 49,
   "metadata": {},
   "outputs": [],
   "source": [
    "_ = learn.load('320_2')"
   ]
  },
  {
   "cell_type": "code",
   "execution_count": 50,
   "metadata": {},
   "outputs": [
    {
     "data": {
      "text/plain": [
       "416"
      ]
     },
     "execution_count": 50,
     "metadata": {},
     "output_type": "execute_result"
    }
   ],
   "source": [
    "sz = 13*32\n",
    "sz\n",
    "learn.data = get_default_databunch(img_fnames_arr, size=sz, bs=16)"
   ]
  },
  {
   "cell_type": "code",
   "execution_count": 51,
   "metadata": {},
   "outputs": [
    {
     "data": {
      "text/plain": [
       "[20.879303, 0.49163667160702945]"
      ]
     },
     "execution_count": 51,
     "metadata": {},
     "output_type": "execute_result"
    }
   ],
   "source": [
    "learn.validate(learn.data.test_dl)"
   ]
  },
  {
   "cell_type": "code",
   "execution_count": 52,
   "metadata": {},
   "outputs": [
    {
     "data": {
      "text/html": [
       "\n",
       "    <div>\n",
       "        <style>\n",
       "        \t/* Turns off some styling */\n",
       "        \tprogress {\n",
       "\n",
       "            \t/* gets rid of default border in Firefox and Opera. */\n",
       "            \tborder: none;\n",
       "\n",
       "            \t/* Needs to be in here for Safari polyfill so background images work as expected. */\n",
       "            \tbackground-size: auto;\n",
       "            }\n",
       "\n",
       "            .progress-bar-interrupted, .progress-bar-interrupted::-webkit-progress-bar {\n",
       "                background: #F44336;\n",
       "            }\n",
       "        </style>\n",
       "      <progress value='4723' class='' max='4723', style='width:300px; height:20px; vertical-align: middle;'></progress>\n",
       "      100.00% [4723/4723 01:50<00:00]\n",
       "    </div>\n",
       "    "
      ],
      "text/plain": [
       "<IPython.core.display.HTML object>"
      ]
     },
     "metadata": {},
     "output_type": "display_data"
    },
    {
     "data": {
      "text/plain": [
       "(0.4393394029218717,\n",
       " {'not_enough_preds': 2041,\n",
       "  'too_many_preds': 9,\n",
       "  'wrong_class': 252,\n",
       "  'too_far': 1,\n",
       "  'wrong_direction': 345})"
      ]
     },
     "execution_count": 52,
     "metadata": {},
     "output_type": "execute_result"
    }
   ],
   "source": [
    "corr, wrongs, w_samples, w_idxs = calculate_accuracy_files(model, learn.data.test_ds.fnames, learn.data.test_dl.size, max_samples=0)\n",
    "corr, wrongs"
   ]
  },
  {
   "cell_type": "code",
   "execution_count": null,
   "metadata": {},
   "outputs": [],
   "source": []
  },
  {
   "cell_type": "code",
   "execution_count": 53,
   "metadata": {},
   "outputs": [
    {
     "name": "stdout",
     "output_type": "stream",
     "text": [
      "Total time: 3:06:52\n",
      "epoch  train_loss  valid_loss  accuracy  loss_conf  loss_cls  loss_coord  loss_angle\n",
      "1      3.599421    4.135702    0.629352  1.623667   0.499205  1.741775    0.271056    (06:11)\n",
      "2      4.042902    4.102026    0.621843  1.614777   0.481438  1.735670    0.270140    (06:13)\n",
      "3      3.374560    4.083979    0.633447  1.611655   0.478223  1.725975    0.268127    (06:11)\n",
      "4      3.611433    4.085629    0.635495  1.604728   0.487954  1.726111    0.266835    (06:13)\n",
      "5      3.356045    4.083211    0.641638  1.602282   0.509253  1.708875    0.262801    (06:12)\n",
      "6      3.722077    4.065437    0.632765  1.594273   0.509201  1.699214    0.262748    (06:13)\n",
      "7      3.486089    4.068674    0.647099  1.596943   0.520293  1.695648    0.255791    (06:12)\n",
      "8      3.251864    4.018857    0.640273  1.596034   0.477926  1.690276    0.254621    (06:12)\n",
      "9      3.365352    4.034848    0.634812  1.577145   0.510395  1.690490    0.256818    (06:13)\n",
      "10     3.493430    3.915245    0.634130  1.568752   0.414249  1.676355    0.255889    (06:13)\n",
      "11     3.366220    3.908986    0.638225  1.566467   0.424794  1.666622    0.251103    (06:15)\n",
      "12     3.119280    3.961790    0.643003  1.570668   0.487228  1.649253    0.254641    (06:15)\n",
      "13     3.214424    3.876085    0.649147  1.559330   0.430840  1.645336    0.240579    (06:13)\n",
      "14     3.086151    3.905010    0.659386  1.563203   0.464755  1.640311    0.236740    (06:12)\n",
      "15     3.177424    3.857322    0.649147  1.555316   0.441128  1.627630    0.233248    (06:13)\n",
      "16     3.173397    3.861155    0.659386  1.555431   0.453565  1.624658    0.227501    (06:12)\n",
      "17     3.069014    3.865476    0.660068  1.557331   0.452968  1.627936    0.227241    (06:12)\n",
      "18     3.008506    3.863947    0.659386  1.550201   0.473023  1.613659    0.227063    (06:12)\n",
      "19     2.996680    3.829061    0.655290  1.544522   0.450919  1.605653    0.227967    (06:13)\n",
      "20     3.004009    3.817222    0.656655  1.546080   0.435716  1.607476    0.227950    (06:12)\n",
      "21     3.151289    3.786144    0.662799  1.543155   0.414913  1.602198    0.225877    (06:14)\n",
      "22     3.186559    3.774109    0.658703  1.539898   0.401656  1.606684    0.225870    (06:15)\n",
      "23     3.093958    3.769520    0.666212  1.540498   0.402198  1.602254    0.224571    (06:15)\n",
      "24     2.853370    3.759330    0.662116  1.537327   0.395337  1.601063    0.225604    (06:15)\n",
      "25     2.981474    3.748427    0.661433  1.535375   0.391036  1.598633    0.223382    (06:13)\n",
      "26     3.075948    3.740220    0.665529  1.535538   0.383953  1.597667    0.223061    (06:14)\n",
      "27     2.899782    3.734097    0.663481  1.535470   0.380189  1.595703    0.222734    (06:15)\n",
      "28     2.809180    3.736496    0.665529  1.534804   0.384270  1.595249    0.222173    (06:15)\n",
      "29     2.908173    3.733242    0.664164  1.534593   0.381691  1.595687    0.221270    (06:15)\n",
      "30     3.304669    3.730253    0.660751  1.533945   0.378917  1.596492    0.220899    (06:16)\n",
      "\n"
     ]
    }
   ],
   "source": [
    "learn.fit_one_cycle(30, max_lr=1e-5)"
   ]
  },
  {
   "cell_type": "code",
   "execution_count": 54,
   "metadata": {},
   "outputs": [],
   "source": [
    "learn.save('416_1') # this is copied to hands_darknet_full_608_v01.pth"
   ]
  },
  {
   "cell_type": "code",
   "execution_count": 55,
   "metadata": {},
   "outputs": [
    {
     "data": {
      "text/plain": [
       "[21.744856, 0.49100148210882916]"
      ]
     },
     "execution_count": 55,
     "metadata": {},
     "output_type": "execute_result"
    }
   ],
   "source": [
    "learn.validate(learn.data.test_dl)"
   ]
  },
  {
   "cell_type": "code",
   "execution_count": 56,
   "metadata": {},
   "outputs": [
    {
     "data": {
      "text/html": [
       "\n",
       "    <div>\n",
       "        <style>\n",
       "        \t/* Turns off some styling */\n",
       "        \tprogress {\n",
       "\n",
       "            \t/* gets rid of default border in Firefox and Opera. */\n",
       "            \tborder: none;\n",
       "\n",
       "            \t/* Needs to be in here for Safari polyfill so background images work as expected. */\n",
       "            \tbackground-size: auto;\n",
       "            }\n",
       "\n",
       "            .progress-bar-interrupted, .progress-bar-interrupted::-webkit-progress-bar {\n",
       "                background: #F44336;\n",
       "            }\n",
       "        </style>\n",
       "      <progress value='4723' class='' max='4723', style='width:300px; height:20px; vertical-align: middle;'></progress>\n",
       "      100.00% [4723/4723 01:50<00:00]\n",
       "    </div>\n",
       "    "
      ],
      "text/plain": [
       "<IPython.core.display.HTML object>"
      ]
     },
     "metadata": {},
     "output_type": "display_data"
    },
    {
     "data": {
      "text/plain": [
       "(0.439974592420072,\n",
       " {'not_enough_preds': 2055,\n",
       "  'too_many_preds': 0,\n",
       "  'wrong_class': 256,\n",
       "  'too_far': 0,\n",
       "  'wrong_direction': 334})"
      ]
     },
     "execution_count": 56,
     "metadata": {},
     "output_type": "execute_result"
    }
   ],
   "source": [
    "corr, wrongs, w_samples, w_idxs = calculate_accuracy_files(model, learn.data.test_ds.fnames, learn.data.test_dl.size, max_samples=0)\n",
    "corr, wrongs"
   ]
  },
  {
   "cell_type": "code",
   "execution_count": null,
   "metadata": {},
   "outputs": [],
   "source": []
  },
  {
   "cell_type": "code",
   "execution_count": 57,
   "metadata": {},
   "outputs": [
    {
     "name": "stdout",
     "output_type": "stream",
     "text": [
      "Total time: 3:07:06\n",
      "epoch  train_loss  valid_loss  accuracy  loss_conf  loss_cls  loss_coord  loss_angle\n",
      "1      3.142807    3.732712    0.664164  1.534974   0.380013  1.596005    0.221720    (06:12)\n",
      "2      3.073757    3.733470    0.662799  1.535124   0.380288  1.595935    0.222123    (06:12)\n",
      "3      3.065186    3.730651    0.662799  1.534264   0.379054  1.596316    0.221017    (06:13)\n",
      "4      3.004814    3.724472    0.662116  1.532081   0.376378  1.595911    0.220103    (06:13)\n",
      "5      2.907373    3.728948    0.665529  1.535206   0.376660  1.595457    0.221625    (06:11)\n",
      "6      2.869380    3.726637    0.660068  1.533224   0.377619  1.594966    0.220828    (06:13)\n",
      "7      3.133643    3.728704    0.663481  1.534346   0.378618  1.594109    0.221630    (06:12)\n",
      "8      3.114626    3.738975    0.665529  1.536062   0.390040  1.591478    0.221394    (06:13)\n",
      "9      2.907002    3.726834    0.661433  1.533480   0.381474  1.590480    0.221400    (06:13)\n",
      "10     3.191125    3.728314    0.658703  1.532773   0.383506  1.591289    0.220746    (06:13)\n",
      "11     3.006136    3.723171    0.663481  1.533592   0.377616  1.591194    0.220768    (06:14)\n",
      "12     3.082290    3.713480    0.659386  1.530204   0.377007  1.588690    0.217579    (06:14)\n",
      "13     2.895002    3.710701    0.663481  1.530589   0.372184  1.590404    0.217524    (06:12)\n",
      "14     2.946875    3.705127    0.653925  1.528650   0.367859  1.590740    0.217877    (06:14)\n",
      "15     2.891752    3.710500    0.662116  1.531555   0.369522  1.590074    0.219349    (06:12)\n",
      "16     2.950155    3.704372    0.658703  1.528124   0.369231  1.588719    0.218298    (06:14)\n",
      "17     2.756503    3.702047    0.660068  1.529300   0.366998  1.587112    0.218636    (06:14)\n",
      "18     3.053010    3.699641    0.662799  1.527748   0.366963  1.586507    0.218424    (06:13)\n",
      "19     2.980363    3.696138    0.668942  1.528867   0.364791  1.584841    0.217639    (06:16)\n",
      "20     2.959555    3.697171    0.670990  1.529651   0.365466  1.584429    0.217626    (06:14)\n",
      "21     2.959391    3.701417    0.668259  1.529876   0.367848  1.585238    0.218456    (06:14)\n",
      "22     2.927074    3.698781    0.666212  1.527159   0.369498  1.585727    0.216397    (06:16)\n",
      "23     3.026529    3.695683    0.661433  1.525994   0.367193  1.585616    0.216879    (06:15)\n",
      "24     2.942257    3.697290    0.664164  1.527216   0.368490  1.584002    0.217583    (06:14)\n",
      "25     3.194196    3.697353    0.664164  1.527458   0.367727  1.584979    0.217189    (06:14)\n",
      "26     2.964574    3.693962    0.661433  1.526583   0.366713  1.583720    0.216946    (06:15)\n",
      "27     2.914991    3.697494    0.664164  1.526773   0.369677  1.583855    0.217188    (06:16)\n",
      "28     2.882736    3.697992    0.664846  1.527061   0.368590  1.584360    0.217981    (06:14)\n",
      "29     3.004019    3.698564    0.664846  1.527772   0.368307  1.584167    0.218318    (06:15)\n",
      "30     2.858428    3.696341    0.662799  1.526629   0.369108  1.583039    0.217564    (06:15)\n",
      "\n"
     ]
    }
   ],
   "source": [
    "learn.fit_one_cycle(30, max_lr=1e-6)"
   ]
  },
  {
   "cell_type": "code",
   "execution_count": 58,
   "metadata": {},
   "outputs": [],
   "source": [
    "learn.save('416_2')  # this is same as hands_darknet_03_416_v01.pth"
   ]
  },
  {
   "cell_type": "code",
   "execution_count": 59,
   "metadata": {},
   "outputs": [
    {
     "data": {
      "text/plain": [
       "[21.658089, 0.49227186110522975]"
      ]
     },
     "execution_count": 59,
     "metadata": {},
     "output_type": "execute_result"
    }
   ],
   "source": [
    "learn.validate(learn.data.test_dl)"
   ]
  },
  {
   "cell_type": "code",
   "execution_count": 60,
   "metadata": {},
   "outputs": [
    {
     "data": {
      "text/html": [
       "\n",
       "    <div>\n",
       "        <style>\n",
       "        \t/* Turns off some styling */\n",
       "        \tprogress {\n",
       "\n",
       "            \t/* gets rid of default border in Firefox and Opera. */\n",
       "            \tborder: none;\n",
       "\n",
       "            \t/* Needs to be in here for Safari polyfill so background images work as expected. */\n",
       "            \tbackground-size: auto;\n",
       "            }\n",
       "\n",
       "            .progress-bar-interrupted, .progress-bar-interrupted::-webkit-progress-bar {\n",
       "                background: #F44336;\n",
       "            }\n",
       "        </style>\n",
       "      <progress value='4723' class='' max='4723', style='width:300px; height:20px; vertical-align: middle;'></progress>\n",
       "      100.00% [4723/4723 01:50<00:00]\n",
       "    </div>\n",
       "    "
      ],
      "text/plain": [
       "<IPython.core.display.HTML object>"
      ]
     },
     "metadata": {},
     "output_type": "display_data"
    },
    {
     "data": {
      "text/plain": [
       "(0.439974592420072,\n",
       " {'not_enough_preds': 2049,\n",
       "  'too_many_preds': 0,\n",
       "  'wrong_class': 256,\n",
       "  'too_far': 0,\n",
       "  'wrong_direction': 340})"
      ]
     },
     "execution_count": 60,
     "metadata": {},
     "output_type": "execute_result"
    }
   ],
   "source": [
    "corr, wrongs, w_samples, w_idxs = calculate_accuracy_files(model, learn.data.test_ds.fnames, learn.data.test_dl.size)\n",
    "corr, wrongs"
   ]
  },
  {
   "cell_type": "code",
   "execution_count": null,
   "metadata": {},
   "outputs": [],
   "source": []
  },
  {
   "cell_type": "markdown",
   "metadata": {},
   "source": [
    "**Note we can get much more accuracy if we lower the confidence threshold. But then we'll also get a lot of more of wrong predictions**"
   ]
  },
  {
   "cell_type": "code",
   "execution_count": 62,
   "metadata": {},
   "outputs": [
    {
     "data": {
      "text/html": [
       "\n",
       "    <div>\n",
       "        <style>\n",
       "        \t/* Turns off some styling */\n",
       "        \tprogress {\n",
       "\n",
       "            \t/* gets rid of default border in Firefox and Opera. */\n",
       "            \tborder: none;\n",
       "\n",
       "            \t/* Needs to be in here for Safari polyfill so background images work as expected. */\n",
       "            \tbackground-size: auto;\n",
       "            }\n",
       "\n",
       "            .progress-bar-interrupted, .progress-bar-interrupted::-webkit-progress-bar {\n",
       "                background: #F44336;\n",
       "            }\n",
       "        </style>\n",
       "      <progress value='4723' class='' max='4723', style='width:300px; height:20px; vertical-align: middle;'></progress>\n",
       "      100.00% [4723/4723 01:55<00:00]\n",
       "    </div>\n",
       "    "
      ],
      "text/plain": [
       "<IPython.core.display.HTML object>"
      ]
     },
     "metadata": {},
     "output_type": "display_data"
    },
    {
     "data": {
      "text/plain": [
       "(0.5604488672453949,\n",
       " {'not_enough_preds': 1069,\n",
       "  'too_many_preds': 38,\n",
       "  'wrong_class': 471,\n",
       "  'too_far': 4,\n",
       "  'wrong_direction': 494})"
      ]
     },
     "execution_count": 62,
     "metadata": {},
     "output_type": "execute_result"
    }
   ],
   "source": [
    "corr, wrongs, w_samples, w_idxs = calculate_accuracy_files(model, learn.data.test_ds.fnames, learn.data.test_dl.size,\n",
    "                                                           get_results_args={'conf_thresh': .20})\n",
    "corr, wrongs"
   ]
  },
  {
   "cell_type": "code",
   "execution_count": 63,
   "metadata": {},
   "outputs": [
    {
     "data": {
      "text/html": [
       "\n",
       "    <div>\n",
       "        <style>\n",
       "        \t/* Turns off some styling */\n",
       "        \tprogress {\n",
       "\n",
       "            \t/* gets rid of default border in Firefox and Opera. */\n",
       "            \tborder: none;\n",
       "\n",
       "            \t/* Needs to be in here for Safari polyfill so background images work as expected. */\n",
       "            \tbackground-size: auto;\n",
       "            }\n",
       "\n",
       "            .progress-bar-interrupted, .progress-bar-interrupted::-webkit-progress-bar {\n",
       "                background: #F44336;\n",
       "            }\n",
       "        </style>\n",
       "      <progress value='4723' class='' max='4723', style='width:300px; height:20px; vertical-align: middle;'></progress>\n",
       "      100.00% [4723/4723 01:56<00:00]\n",
       "    </div>\n",
       "    "
      ],
      "text/plain": [
       "<IPython.core.display.HTML object>"
      ]
     },
     "metadata": {},
     "output_type": "display_data"
    },
    {
     "data": {
      "text/plain": [
       "(0.5941139106500106,\n",
       " {'not_enough_preds': 484,\n",
       "  'too_many_preds': 247,\n",
       "  'wrong_class': 624,\n",
       "  'too_far': 3,\n",
       "  'wrong_direction': 559})"
      ]
     },
     "execution_count": 63,
     "metadata": {},
     "output_type": "execute_result"
    }
   ],
   "source": [
    "corr, wrongs, w_samples, w_idxs = calculate_accuracy_files(model, learn.data.test_ds.fnames, learn.data.test_dl.size,\n",
    "                                                           get_results_args={'conf_thresh': .10})\n",
    "corr, wrongs"
   ]
  },
  {
   "cell_type": "code",
   "execution_count": 64,
   "metadata": {},
   "outputs": [
    {
     "data": {
      "text/html": [
       "\n",
       "    <div>\n",
       "        <style>\n",
       "        \t/* Turns off some styling */\n",
       "        \tprogress {\n",
       "\n",
       "            \t/* gets rid of default border in Firefox and Opera. */\n",
       "            \tborder: none;\n",
       "\n",
       "            \t/* Needs to be in here for Safari polyfill so background images work as expected. */\n",
       "            \tbackground-size: auto;\n",
       "            }\n",
       "\n",
       "            .progress-bar-interrupted, .progress-bar-interrupted::-webkit-progress-bar {\n",
       "                background: #F44336;\n",
       "            }\n",
       "        </style>\n",
       "      <progress value='4723' class='' max='4723', style='width:300px; height:20px; vertical-align: middle;'></progress>\n",
       "      100.00% [4723/4723 02:02<00:00]\n",
       "    </div>\n",
       "    "
      ],
      "text/plain": [
       "<IPython.core.display.HTML object>"
      ]
     },
     "metadata": {},
     "output_type": "display_data"
    },
    {
     "data": {
      "text/plain": [
       "(0.46919330933728565,\n",
       " {'not_enough_preds': 156,\n",
       "  'too_many_preds': 1312,\n",
       "  'wrong_class': 569,\n",
       "  'too_far': 5,\n",
       "  'wrong_direction': 465})"
      ]
     },
     "execution_count": 64,
     "metadata": {},
     "output_type": "execute_result"
    }
   ],
   "source": [
    "corr, wrongs, w_samples, w_idxs = calculate_accuracy_files(model, learn.data.test_ds.fnames, learn.data.test_dl.size,\n",
    "                                                           get_results_args={'conf_thresh': .05})\n",
    "corr, wrongs"
   ]
  },
  {
   "cell_type": "code",
   "execution_count": null,
   "metadata": {},
   "outputs": [],
   "source": []
  },
  {
   "cell_type": "code",
   "execution_count": null,
   "metadata": {},
   "outputs": [],
   "source": []
  },
  {
   "cell_type": "code",
   "execution_count": null,
   "metadata": {},
   "outputs": [],
   "source": []
  },
  {
   "cell_type": "code",
   "execution_count": null,
   "metadata": {},
   "outputs": [],
   "source": []
  },
  {
   "cell_type": "code",
   "execution_count": null,
   "metadata": {},
   "outputs": [],
   "source": []
  },
  {
   "cell_type": "code",
   "execution_count": null,
   "metadata": {},
   "outputs": [],
   "source": []
  },
  {
   "cell_type": "code",
   "execution_count": null,
   "metadata": {},
   "outputs": [],
   "source": []
  }
 ],
 "metadata": {
  "anaconda-cloud": {},
  "kernelspec": {
   "display_name": "Python 3",
   "language": "python",
   "name": "python3"
  },
  "language_info": {
   "codemirror_mode": {
    "name": "ipython",
    "version": 3
   },
   "file_extension": ".py",
   "mimetype": "text/x-python",
   "name": "python",
   "nbconvert_exporter": "python",
   "pygments_lexer": "ipython3",
   "version": "3.7.0"
  }
 },
 "nbformat": 4,
 "nbformat_minor": 2
}
